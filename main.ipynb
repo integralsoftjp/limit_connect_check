{
 "cells": [
  {
   "cell_type": "code",
   "execution_count": null,
   "id": "536283f6-b99a-4900-abd0-7475408261a1",
   "metadata": {},
   "outputs": [],
   "source": [
    "import pyautogui as pgui\n",
    "import time\n",
    "import platform\n",
    "def beep(freq, dur=100):\n",
    "    \"\"\"\n",
    "        ビープ音を鳴らす.\n",
    "        @param freq 周波数\n",
    "        @param dur  継続時間（ms）\n",
    "    \"\"\"\n",
    "    if platform.system() == \"Windows\":\n",
    "        # Windowsの場合は、winsoundというPython標準ライブラリを使います.\n",
    "        import winsound\n",
    "        winsound.Beep(freq, dur)\n",
    "    else:\n",
    "        # Macの場合には、Macに標準インストールされたplayコマンドを使います.\n",
    "        import os\n",
    "        os.system('play -n synth %s sin %s' % (dur/1000, freq))\n",
    "\n",
    "#画像の認識で判定\n",
    "while pgui.locateOnScreen('NGshot.png' , confidence=0.9) is None:\n",
    "    time.sleep(1)\n",
    "#座標を取得\n",
    "position=pgui.locateOnScreen('NGshot.png' , confidence=0.9)\n",
    "beep(2000,2000)"
   ]
  },
  {
   "cell_type": "code",
   "execution_count": 11,
   "id": "0b0fe179-cffe-415e-b108-1620a054836b",
   "metadata": {},
   "outputs": [
    {
     "name": "stdout",
     "output_type": "stream",
     "text": [
      "Box(left=575, top=249, width=111, height=40)\n"
     ]
    }
   ],
   "source": []
  },
  {
   "cell_type": "code",
   "execution_count": null,
   "id": "4245cfbc-3c9f-442f-82a7-53ad1ab41400",
   "metadata": {},
   "outputs": [],
   "source": []
  }
 ],
 "metadata": {
  "kernelspec": {
   "display_name": "Python 3",
   "language": "python",
   "name": "python3"
  },
  "language_info": {
   "codemirror_mode": {
    "name": "ipython",
    "version": 3
   },
   "file_extension": ".py",
   "mimetype": "text/x-python",
   "name": "python",
   "nbconvert_exporter": "python",
   "pygments_lexer": "ipython3",
   "version": "3.9.4"
  }
 },
 "nbformat": 4,
 "nbformat_minor": 5
}
