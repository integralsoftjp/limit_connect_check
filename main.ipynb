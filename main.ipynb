{
 "cells": [
  {
   "cell_type": "code",
   "execution_count": 1,
   "id": "536283f6-b99a-4900-abd0-7475408261a1",
   "metadata": {},
   "outputs": [],
   "source": [
    "import pyautogui as pgui\n",
    "import time\n",
    "import platform\n",
    "def beep(freq, dur=100):\n",
    "    \"\"\"\n",
    "        ビープ音を鳴らす.\n",
    "        @param freq 周波数\n",
    "        @param dur  継続時間（ms）\n",
    "    \"\"\"\n",
    "    if platform.system() == \"Windows\":\n",
    "        # Windowsの場合は、winsoundというPython標準ライブラリを使います.\n",
    "        import winsound\n",
    "        winsound.Beep(freq, dur)\n",
    "    else:\n",
    "        # Macの場合には、Macに標準インストールされたplayコマンドを使います.\n",
    "        import os\n",
    "        os.system('play -n synth %s sin %s' % (dur/1000, freq))\n",
    "\n",
    "#画像の認識で判定\n",
    "while pgui.locateOnScreen('NGshot.png' , confidence=0.9) is None:\n",
    "    time.sleep(1)\n",
    "#座標を取得\n",
    "position=pgui.locateOnScreen('NGshot.png' , confidence=0.9)\n",
    "beep(2000,2000)"
   ]
  }
 ],
 "metadata": {
  "kernelspec": {
   "name": "python394jvsc74a57bd03a5a7e1e1f1f899035568282299f3f4937d626caff5fe0f0446d503dd86808bd",
   "display_name": "Python 3.9.4 64-bit ('progbase': conda)"
  },
  "language_info": {
   "codemirror_mode": {
    "name": "ipython",
    "version": 3
   },
   "file_extension": ".py",
   "mimetype": "text/x-python",
   "name": "python",
   "nbconvert_exporter": "python",
   "pygments_lexer": "ipython3",
   "version": "3.9.4"
  }
 },
 "nbformat": 4,
 "nbformat_minor": 5
}